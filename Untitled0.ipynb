{
  "nbformat": 4,
  "nbformat_minor": 0,
  "metadata": {
    "colab": {
      "provenance": [],
      "toc_visible": true,
      "authorship_tag": "ABX9TyPoQ7p7uqBdNskNSsKFNrmF",
      "include_colab_link": true
    },
    "kernelspec": {
      "name": "python3",
      "display_name": "Python 3"
    },
    "language_info": {
      "name": "python"
    }
  },
  "cells": [
    {
      "cell_type": "markdown",
      "metadata": {
        "id": "view-in-github",
        "colab_type": "text"
      },
      "source": [
        "<a href=\"https://colab.research.google.com/github/mais1codigo/filmes/blob/main/Untitled0.ipynb\" target=\"_parent\"><img src=\"https://colab.research.google.com/assets/colab-badge.svg\" alt=\"Open In Colab\"/></a>"
      ]
    },
    {
      "cell_type": "code",
      "source": [
        "import random, math\n",
        "n = int(input(\"digite a quantidade de valores: \"))\n",
        "soma = 0\n",
        "for i in range(n):\n",
        "  valor = random.randint(0, 100)\n",
        "  print(valor)\n",
        "  soma += valor\n",
        "\n",
        "\n",
        "  print(f\"a raiz quadrada da soma é , {math.sqrt(soma):.2f}\")"
      ],
      "metadata": {
        "colab": {
          "base_uri": "https://localhost:8080/"
        },
        "id": "CxoN5jLT_ZtI",
        "outputId": "d2ccfe45-4cdc-4fca-e340-42cf7e75af67"
      },
      "execution_count": 7,
      "outputs": [
        {
          "output_type": "stream",
          "name": "stdout",
          "text": [
            "digite a quantidade de valores: 1\n",
            "92\n",
            "a raiz quadrada da soma é , 9.59\n"
          ]
        }
      ]
    }
  ]
}